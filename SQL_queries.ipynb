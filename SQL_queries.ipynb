{
 "cells": [
  {
   "cell_type": "code",
   "execution_count": 2,
   "id": "da99aa71-7006-475f-9567-cacfa538dac4",
   "metadata": {
    "customType": "sql",
    "dataFrameVariableName": "df",
    "executionCancelledAt": null,
    "executionTime": null,
    "lastExecutedAt": null,
    "lastScheduledRunId": null,
    "lastSuccessfullyExecutedCode": null,
    "outputsMetadata": {
     "0": {
      "height": 142,
      "type": "dataFrame"
     }
    },
    "sqlCellMode": "dataFrame",
    "sqlSource": {
     "integrationId": "f6cfed46-351b-4bd5-8798-299c81baa8b6",
     "integrationType": "redshift",
     "type": "integration"
    }
   },
   "outputs": [
    {
     "@datacamp/metadata": {
      "executedQuery": "SELECT c.catgroup, COUNT(e.eventid) AS event_count\nFROM category c\nLEFT JOIN event e ON c.catid = e.catid\nGROUP BY c.catgroup\nORDER BY event_count DESC;",
      "executedQueryParameters": []
     },
     "data": {
      "application/com.datacamp.data-table.v1+json": {
       "table": {
        "data": [
         {
          "catgroup": "Concerts",
          "event_count": 4998,
          "index": 0
         },
         {
          "catgroup": "Shows",
          "event_count": 3800,
          "index": 1
         },
         {
          "catgroup": "Sports",
          "event_count": 0,
          "index": 2
         }
        ],
        "schema": {
         "fields": [
          {
           "name": "index",
           "type": "integer"
          },
          {
           "name": "catgroup",
           "type": "string"
          },
          {
           "name": "event_count",
           "type": "integer"
          }
         ],
         "pandas_version": "1.4.0",
         "primaryKey": [
          "index"
         ]
        }
       },
       "total_rows": 3,
       "truncation_type": null
      },
      "text/html": [
       "<div>\n",
       "<style scoped>\n",
       "    .dataframe tbody tr th:only-of-type {\n",
       "        vertical-align: middle;\n",
       "    }\n",
       "\n",
       "    .dataframe tbody tr th {\n",
       "        vertical-align: top;\n",
       "    }\n",
       "\n",
       "    .dataframe thead th {\n",
       "        text-align: right;\n",
       "    }\n",
       "</style>\n",
       "<table border=\"1\" class=\"dataframe\">\n",
       "  <thead>\n",
       "    <tr style=\"text-align: right;\">\n",
       "      <th></th>\n",
       "      <th>catgroup</th>\n",
       "      <th>event_count</th>\n",
       "    </tr>\n",
       "  </thead>\n",
       "  <tbody>\n",
       "    <tr>\n",
       "      <th>0</th>\n",
       "      <td>Concerts</td>\n",
       "      <td>4998</td>\n",
       "    </tr>\n",
       "    <tr>\n",
       "      <th>1</th>\n",
       "      <td>Shows</td>\n",
       "      <td>3800</td>\n",
       "    </tr>\n",
       "    <tr>\n",
       "      <th>2</th>\n",
       "      <td>Sports</td>\n",
       "      <td>0</td>\n",
       "    </tr>\n",
       "  </tbody>\n",
       "</table>\n",
       "</div>"
      ],
      "text/plain": [
       "   catgroup  event_count\n",
       "0  Concerts         4998\n",
       "1     Shows         3800\n",
       "2    Sports            0"
      ]
     },
     "execution_count": 2,
     "metadata": {},
     "output_type": "execute_result"
    }
   ],
   "source": [
    "# Total number of events based on their category \n",
    "\n",
    "SELECT c.catgroup, COUNT(e.eventid) AS event_count\n",
    "FROM category c\n",
    "LEFT JOIN event e ON c.catid = e.catid\n",
    "GROUP BY c.catgroup\n",
    "ORDER BY event_count DESC;"
   ]
  },
  {
   "cell_type": "code",
   "execution_count": 8,
   "id": "eb6b1fed-660c-4be0-bbc8-fb04a6cd844a",
   "metadata": {
    "customType": "sql",
    "dataFrameVariableName": "df1",
    "executionCancelledAt": null,
    "executionTime": 1008,
    "lastExecutedAt": 1694655600882,
    "lastScheduledRunId": null,
    "lastSuccessfullyExecutedCode": "-- \n\nSELECT e.eventname, v.venuecity, SUM(s.pricepaid) AS total_revenue\nFROM event e\nJOIN venue v ON e.venueid = v.venueid\nJOIN sales s ON e.eventid = s.eventid\nGROUP BY e.eventname, v.venuecity\nORDER BY total_revenue DESC\nLIMIT 10;",
    "outputsMetadata": {
     "0": {
      "height": 310,
      "type": "dataFrame"
     }
    },
    "sqlCellMode": "dataFrame",
    "sqlSource": {
     "integrationId": "f6cfed46-351b-4bd5-8798-299c81baa8b6",
     "integrationType": "redshift",
     "type": "integration"
    }
   },
   "outputs": [
    {
     "@datacamp/metadata": {
      "executedQuery": "-- \n\nSELECT e.eventname, v.venuecity, SUM(s.pricepaid) AS total_revenue\nFROM event e\nJOIN venue v ON e.venueid = v.venueid\nJOIN sales s ON e.eventid = s.eventid\nGROUP BY e.eventname, v.venuecity\nORDER BY total_revenue DESC\nLIMIT 10;",
      "executedQueryParameters": []
     },
     "data": {
      "application/com.datacamp.data-table.v1+json": {
       "table": {
        "data": [
         {
          "eventname": "Spring Awakening",
          "index": 0,
          "total_revenue": 726824,
          "venuecity": "New York City"
         },
         {
          "eventname": "The Country Girl",
          "index": 1,
          "total_revenue": 709949,
          "venuecity": "New York City"
         },
         {
          "eventname": "Mamma Mia!",
          "index": 2,
          "total_revenue": 709672,
          "venuecity": "New York City"
         },
         {
          "eventname": "Jersey Boys",
          "index": 3,
          "total_revenue": 669345,
          "venuecity": "New York City"
         },
         {
          "eventname": "Macbeth",
          "index": 4,
          "total_revenue": 664873,
          "venuecity": "New York City"
         },
         {
          "eventname": "Mystere Cirque du Soleil",
          "index": 5,
          "total_revenue": 583283,
          "venuecity": "Las Vegas"
         },
         {
          "eventname": "Chicago",
          "index": 6,
          "total_revenue": 582057,
          "venuecity": "New York City"
         },
         {
          "eventname": "Blue Man Group",
          "index": 7,
          "total_revenue": 567346,
          "venuecity": "Las Vegas"
         },
         {
          "eventname": "The Seagull",
          "index": 8,
          "total_revenue": 527282,
          "venuecity": "New York City"
         },
         {
          "eventname": "Thurgood",
          "index": 9,
          "total_revenue": 525173,
          "venuecity": "New York City"
         }
        ],
        "schema": {
         "fields": [
          {
           "name": "index",
           "type": "integer"
          },
          {
           "name": "eventname",
           "type": "string"
          },
          {
           "name": "venuecity",
           "type": "string"
          },
          {
           "name": "total_revenue",
           "type": "number"
          }
         ],
         "pandas_version": "1.4.0",
         "primaryKey": [
          "index"
         ]
        }
       },
       "total_rows": 10,
       "truncation_type": null
      },
      "text/html": [
       "<div>\n",
       "<style scoped>\n",
       "    .dataframe tbody tr th:only-of-type {\n",
       "        vertical-align: middle;\n",
       "    }\n",
       "\n",
       "    .dataframe tbody tr th {\n",
       "        vertical-align: top;\n",
       "    }\n",
       "\n",
       "    .dataframe thead th {\n",
       "        text-align: right;\n",
       "    }\n",
       "</style>\n",
       "<table border=\"1\" class=\"dataframe\">\n",
       "  <thead>\n",
       "    <tr style=\"text-align: right;\">\n",
       "      <th></th>\n",
       "      <th>eventname</th>\n",
       "      <th>venuecity</th>\n",
       "      <th>total_revenue</th>\n",
       "    </tr>\n",
       "  </thead>\n",
       "  <tbody>\n",
       "    <tr>\n",
       "      <th>0</th>\n",
       "      <td>Spring Awakening</td>\n",
       "      <td>New York City</td>\n",
       "      <td>726824.0</td>\n",
       "    </tr>\n",
       "    <tr>\n",
       "      <th>1</th>\n",
       "      <td>The Country Girl</td>\n",
       "      <td>New York City</td>\n",
       "      <td>709949.0</td>\n",
       "    </tr>\n",
       "    <tr>\n",
       "      <th>2</th>\n",
       "      <td>Mamma Mia!</td>\n",
       "      <td>New York City</td>\n",
       "      <td>709672.0</td>\n",
       "    </tr>\n",
       "    <tr>\n",
       "      <th>3</th>\n",
       "      <td>Jersey Boys</td>\n",
       "      <td>New York City</td>\n",
       "      <td>669345.0</td>\n",
       "    </tr>\n",
       "    <tr>\n",
       "      <th>4</th>\n",
       "      <td>Macbeth</td>\n",
       "      <td>New York City</td>\n",
       "      <td>664873.0</td>\n",
       "    </tr>\n",
       "    <tr>\n",
       "      <th>5</th>\n",
       "      <td>Mystere Cirque du Soleil</td>\n",
       "      <td>Las Vegas</td>\n",
       "      <td>583283.0</td>\n",
       "    </tr>\n",
       "    <tr>\n",
       "      <th>6</th>\n",
       "      <td>Chicago</td>\n",
       "      <td>New York City</td>\n",
       "      <td>582057.0</td>\n",
       "    </tr>\n",
       "    <tr>\n",
       "      <th>7</th>\n",
       "      <td>Blue Man Group</td>\n",
       "      <td>Las Vegas</td>\n",
       "      <td>567346.0</td>\n",
       "    </tr>\n",
       "    <tr>\n",
       "      <th>8</th>\n",
       "      <td>The Seagull</td>\n",
       "      <td>New York City</td>\n",
       "      <td>527282.0</td>\n",
       "    </tr>\n",
       "    <tr>\n",
       "      <th>9</th>\n",
       "      <td>Thurgood</td>\n",
       "      <td>New York City</td>\n",
       "      <td>525173.0</td>\n",
       "    </tr>\n",
       "  </tbody>\n",
       "</table>\n",
       "</div>"
      ],
      "text/plain": [
       "                  eventname      venuecity  total_revenue\n",
       "0          Spring Awakening  New York City       726824.0\n",
       "1          The Country Girl  New York City       709949.0\n",
       "2                Mamma Mia!  New York City       709672.0\n",
       "3               Jersey Boys  New York City       669345.0\n",
       "4                   Macbeth  New York City       664873.0\n",
       "5  Mystere Cirque du Soleil      Las Vegas       583283.0\n",
       "6                   Chicago  New York City       582057.0\n",
       "7            Blue Man Group      Las Vegas       567346.0\n",
       "8               The Seagull  New York City       527282.0\n",
       "9                  Thurgood  New York City       525173.0"
      ]
     },
     "execution_count": 8,
     "metadata": {},
     "output_type": "execute_result"
    }
   ],
   "source": [
    "# Top 10 events based on total revenue generated and their location\n",
    "\n",
    "SELECT e.eventname, v.venuecity, SUM(s.pricepaid) AS total_revenue\n",
    "FROM event e\n",
    "JOIN venue v ON e.venueid = v.venueid\n",
    "JOIN sales s ON e.eventid = s.eventid\n",
    "GROUP BY e.eventname, v.venuecity\n",
    "ORDER BY total_revenue DESC\n",
    "LIMIT 10;"
   ]
  },
  {
   "cell_type": "code",
   "execution_count": 9,
   "id": "61d03e43-0460-459b-9a4f-9ff33476f887",
   "metadata": {
    "customType": "sql",
    "dataFrameVariableName": "df2",
    "executionCancelledAt": null,
    "executionTime": null,
    "lastExecutedAt": null,
    "lastScheduledRunId": null,
    "lastSuccessfullyExecutedCode": null,
    "outputsMetadata": {
     "0": {
      "height": 166,
      "type": "dataFrame"
     }
    },
    "sqlCellMode": "dataFrame",
    "sqlSource": {
     "integrationId": "f6cfed46-351b-4bd5-8798-299c81baa8b6",
     "integrationType": "redshift",
     "type": "integration"
    }
   },
   "outputs": [
    {
     "@datacamp/metadata": {
      "executedQuery": "\nSELECT catname, AVG(priceperticket) AS avg_ticket_price\nFROM category c\nJOIN event e ON c.catid = e.catid\nJOIN listing l ON e.eventid = l.eventid\nGROUP BY catname\nORDER BY avg_ticket_price DESC\nLIMIT 5;",
      "executedQueryParameters": []
     },
     "data": {
      "application/com.datacamp.data-table.v1+json": {
       "table": {
        "data": [
         {
          "avg_ticket_price": 402.69,
          "catname": "Opera",
          "index": 0
         },
         {
          "avg_ticket_price": 398.53,
          "catname": "Plays",
          "index": 1
         },
         {
          "avg_ticket_price": 397.81,
          "catname": "Musicals",
          "index": 2
         },
         {
          "avg_ticket_price": 396.12,
          "catname": "Pop",
          "index": 3
         }
        ],
        "schema": {
         "fields": [
          {
           "name": "index",
           "type": "integer"
          },
          {
           "name": "catname",
           "type": "string"
          },
          {
           "name": "avg_ticket_price",
           "type": "number"
          }
         ],
         "pandas_version": "1.4.0",
         "primaryKey": [
          "index"
         ]
        }
       },
       "total_rows": 4,
       "truncation_type": null
      },
      "text/html": [
       "<div>\n",
       "<style scoped>\n",
       "    .dataframe tbody tr th:only-of-type {\n",
       "        vertical-align: middle;\n",
       "    }\n",
       "\n",
       "    .dataframe tbody tr th {\n",
       "        vertical-align: top;\n",
       "    }\n",
       "\n",
       "    .dataframe thead th {\n",
       "        text-align: right;\n",
       "    }\n",
       "</style>\n",
       "<table border=\"1\" class=\"dataframe\">\n",
       "  <thead>\n",
       "    <tr style=\"text-align: right;\">\n",
       "      <th></th>\n",
       "      <th>catname</th>\n",
       "      <th>avg_ticket_price</th>\n",
       "    </tr>\n",
       "  </thead>\n",
       "  <tbody>\n",
       "    <tr>\n",
       "      <th>0</th>\n",
       "      <td>Opera</td>\n",
       "      <td>402.69</td>\n",
       "    </tr>\n",
       "    <tr>\n",
       "      <th>1</th>\n",
       "      <td>Plays</td>\n",
       "      <td>398.53</td>\n",
       "    </tr>\n",
       "    <tr>\n",
       "      <th>2</th>\n",
       "      <td>Musicals</td>\n",
       "      <td>397.81</td>\n",
       "    </tr>\n",
       "    <tr>\n",
       "      <th>3</th>\n",
       "      <td>Pop</td>\n",
       "      <td>396.12</td>\n",
       "    </tr>\n",
       "  </tbody>\n",
       "</table>\n",
       "</div>"
      ],
      "text/plain": [
       "    catname  avg_ticket_price\n",
       "0     Opera            402.69\n",
       "1     Plays            398.53\n",
       "2  Musicals            397.81\n",
       "3       Pop            396.12"
      ]
     },
     "execution_count": 9,
     "metadata": {},
     "output_type": "execute_result"
    }
   ],
   "source": [
    "# Top 5 category names based on their average ticket price\n",
    "\n",
    "SELECT catname, AVG(priceperticket) AS avg_ticket_price\n",
    "FROM category c\n",
    "JOIN event e ON c.catid = e.catid\n",
    "JOIN listing l ON e.eventid = l.eventid\n",
    "GROUP BY catname\n",
    "ORDER BY avg_ticket_price DESC\n",
    "LIMIT 5;"
   ]
  },
  {
   "cell_type": "code",
   "execution_count": 31,
   "id": "5da5f84d-e89d-44c0-9b8b-ebd0db6fdf10",
   "metadata": {
    "customType": "sql",
    "dataFrameVariableName": "df3",
    "executionCancelledAt": null,
    "executionTime": 6246,
    "lastExecutedAt": 1694657968286,
    "lastScheduledRunId": null,
    "lastSuccessfullyExecutedCode": "SELECT u.firstname || ' ' || u.lastname AS full_name, SUM(s.pricepaid) AS total_spending_on_concerts\nFROM users u\nJOIN sales s ON u.userid = s.buyerid\nJOIN event e ON s.eventid = e.eventid\nJOIN category c ON e.catid = c.catid\nJOIN venue v ON e.venueid = v.venueid\nWHERE c.catgroup = 'Concerts' AND v.venuestate = 'CA'\nGROUP BY full_name\nORDER BY total_spending_on_concerts DESC\nLIMIT 5;",
    "outputsMetadata": {
     "0": {
      "height": 190,
      "type": "dataFrame"
     }
    },
    "sqlCellMode": "dataFrame",
    "sqlSource": {
     "integrationId": "f6cfed46-351b-4bd5-8798-299c81baa8b6",
     "integrationType": "redshift",
     "type": "integration"
    }
   },
   "outputs": [
    {
     "@datacamp/metadata": {
      "executedQuery": "SELECT u.firstname || ' ' || u.lastname AS full_name, SUM(s.pricepaid) AS total_spending_on_concerts\nFROM users u\nJOIN sales s ON u.userid = s.buyerid\nJOIN event e ON s.eventid = e.eventid\nJOIN category c ON e.catid = c.catid\nJOIN venue v ON e.venueid = v.venueid\nWHERE c.catgroup = 'Concerts' AND v.venuestate = 'CA'\nGROUP BY full_name\nORDER BY total_spending_on_concerts DESC\nLIMIT 5;",
      "executedQueryParameters": []
     },
     "data": {
      "application/com.datacamp.data-table.v1+json": {
       "table": {
        "data": [
         {
          "full_name": "Brianna England",
          "index": 0,
          "total_spending_on_concerts": 21568
         },
         {
          "full_name": "Yoshio Clements",
          "index": 1,
          "total_spending_on_concerts": 14820
         },
         {
          "full_name": "Fletcher Briggs",
          "index": 2,
          "total_spending_on_concerts": 14120
         },
         {
          "full_name": "Gisela Huffman",
          "index": 3,
          "total_spending_on_concerts": 12568
         },
         {
          "full_name": "Willa Conley",
          "index": 4,
          "total_spending_on_concerts": 10612
         }
        ],
        "schema": {
         "fields": [
          {
           "name": "index",
           "type": "integer"
          },
          {
           "name": "full_name",
           "type": "string"
          },
          {
           "name": "total_spending_on_concerts",
           "type": "number"
          }
         ],
         "pandas_version": "1.4.0",
         "primaryKey": [
          "index"
         ]
        }
       },
       "total_rows": 5,
       "truncation_type": null
      },
      "text/html": [
       "<div>\n",
       "<style scoped>\n",
       "    .dataframe tbody tr th:only-of-type {\n",
       "        vertical-align: middle;\n",
       "    }\n",
       "\n",
       "    .dataframe tbody tr th {\n",
       "        vertical-align: top;\n",
       "    }\n",
       "\n",
       "    .dataframe thead th {\n",
       "        text-align: right;\n",
       "    }\n",
       "</style>\n",
       "<table border=\"1\" class=\"dataframe\">\n",
       "  <thead>\n",
       "    <tr style=\"text-align: right;\">\n",
       "      <th></th>\n",
       "      <th>full_name</th>\n",
       "      <th>total_spending_on_concerts</th>\n",
       "    </tr>\n",
       "  </thead>\n",
       "  <tbody>\n",
       "    <tr>\n",
       "      <th>0</th>\n",
       "      <td>Brianna England</td>\n",
       "      <td>21568.0</td>\n",
       "    </tr>\n",
       "    <tr>\n",
       "      <th>1</th>\n",
       "      <td>Yoshio Clements</td>\n",
       "      <td>14820.0</td>\n",
       "    </tr>\n",
       "    <tr>\n",
       "      <th>2</th>\n",
       "      <td>Fletcher Briggs</td>\n",
       "      <td>14120.0</td>\n",
       "    </tr>\n",
       "    <tr>\n",
       "      <th>3</th>\n",
       "      <td>Gisela Huffman</td>\n",
       "      <td>12568.0</td>\n",
       "    </tr>\n",
       "    <tr>\n",
       "      <th>4</th>\n",
       "      <td>Willa Conley</td>\n",
       "      <td>10612.0</td>\n",
       "    </tr>\n",
       "  </tbody>\n",
       "</table>\n",
       "</div>"
      ],
      "text/plain": [
       "         full_name  total_spending_on_concerts\n",
       "0  Brianna England                     21568.0\n",
       "1  Yoshio Clements                     14820.0\n",
       "2  Fletcher Briggs                     14120.0\n",
       "3   Gisela Huffman                     12568.0\n",
       "4     Willa Conley                     10612.0"
      ]
     },
     "execution_count": 31,
     "metadata": {},
     "output_type": "execute_result"
    }
   ],
   "source": [
    "# Top 5 buyers from California who spent the most on concerts\n",
    "\n",
    "SELECT u.firstname || ' ' || u.lastname AS full_name, SUM(s.pricepaid) AS total_spending_on_concerts\n",
    "FROM users u\n",
    "JOIN sales s ON u.userid = s.buyerid\n",
    "JOIN event e ON s.eventid = e.eventid\n",
    "JOIN category c ON e.catid = c.catid\n",
    "JOIN venue v ON e.venueid = v.venueid\n",
    "WHERE c.catgroup = 'Concerts' AND v.venuestate = 'CA'\n",
    "GROUP BY full_name\n",
    "ORDER BY total_spending_on_concerts DESC\n",
    "LIMIT 5;"
   ]
  },
  {
   "cell_type": "code",
   "execution_count": 21,
   "id": "9ca95112-486e-4acf-add2-aaf0ee5fcb53",
   "metadata": {
    "customType": "sql",
    "dataFrameVariableName": "df4",
    "executionCancelledAt": null,
    "executionTime": 972,
    "lastExecutedAt": 1694656368654,
    "lastScheduledRunId": null,
    "lastSuccessfullyExecutedCode": "SELECT v.venuecity, v.venuestate, ROUND(AVG(l.priceperticket), 0) AS avg_event_price\nFROM venue v\nJOIN event e ON v.venueid = e.venueid\nJOIN listing l ON e.eventid = l.eventid\nGROUP BY v.venuecity, v.venuestate\nORDER BY avg_event_price DESC\nLIMIT 5;",
    "outputsMetadata": {
     "0": {
      "height": 190,
      "type": "dataFrame"
     }
    },
    "sqlCellMode": "dataFrame",
    "sqlSource": {
     "integrationId": "f6cfed46-351b-4bd5-8798-299c81baa8b6",
     "integrationType": "redshift",
     "type": "integration"
    }
   },
   "outputs": [
    {
     "@datacamp/metadata": {
      "executedQuery": "SELECT v.venuecity, v.venuestate, ROUND(AVG(l.priceperticket), 0) AS avg_event_price\nFROM venue v\nJOIN event e ON v.venueid = e.venueid\nJOIN listing l ON e.eventid = l.eventid\nGROUP BY v.venuecity, v.venuestate\nORDER BY avg_event_price DESC\nLIMIT 5;",
      "executedQueryParameters": []
     },
     "data": {
      "application/com.datacamp.data-table.v1+json": {
       "table": {
        "data": [
         {
          "avg_event_price": 438,
          "index": 0,
          "venuecity": "Foxborough",
          "venuestate": "MA"
         },
         {
          "avg_event_price": 437,
          "index": 1,
          "venuecity": "St. Paul",
          "venuestate": "MN"
         },
         {
          "avg_event_price": 427,
          "index": 2,
          "venuecity": "Orchard Park",
          "venuestate": "NY"
         },
         {
          "avg_event_price": 426,
          "index": 3,
          "venuecity": "Mountain View",
          "venuestate": "CA"
         },
         {
          "avg_event_price": 417,
          "index": 4,
          "venuecity": "Chicago",
          "venuestate": "IL"
         }
        ],
        "schema": {
         "fields": [
          {
           "name": "index",
           "type": "integer"
          },
          {
           "name": "venuecity",
           "type": "string"
          },
          {
           "name": "venuestate",
           "type": "string"
          },
          {
           "name": "avg_event_price",
           "type": "integer"
          }
         ],
         "pandas_version": "1.4.0",
         "primaryKey": [
          "index"
         ]
        }
       },
       "total_rows": 5,
       "truncation_type": null
      },
      "text/html": [
       "<div>\n",
       "<style scoped>\n",
       "    .dataframe tbody tr th:only-of-type {\n",
       "        vertical-align: middle;\n",
       "    }\n",
       "\n",
       "    .dataframe tbody tr th {\n",
       "        vertical-align: top;\n",
       "    }\n",
       "\n",
       "    .dataframe thead th {\n",
       "        text-align: right;\n",
       "    }\n",
       "</style>\n",
       "<table border=\"1\" class=\"dataframe\">\n",
       "  <thead>\n",
       "    <tr style=\"text-align: right;\">\n",
       "      <th></th>\n",
       "      <th>venuecity</th>\n",
       "      <th>venuestate</th>\n",
       "      <th>avg_event_price</th>\n",
       "    </tr>\n",
       "  </thead>\n",
       "  <tbody>\n",
       "    <tr>\n",
       "      <th>0</th>\n",
       "      <td>Foxborough</td>\n",
       "      <td>MA</td>\n",
       "      <td>438</td>\n",
       "    </tr>\n",
       "    <tr>\n",
       "      <th>1</th>\n",
       "      <td>St. Paul</td>\n",
       "      <td>MN</td>\n",
       "      <td>437</td>\n",
       "    </tr>\n",
       "    <tr>\n",
       "      <th>2</th>\n",
       "      <td>Orchard Park</td>\n",
       "      <td>NY</td>\n",
       "      <td>427</td>\n",
       "    </tr>\n",
       "    <tr>\n",
       "      <th>3</th>\n",
       "      <td>Mountain View</td>\n",
       "      <td>CA</td>\n",
       "      <td>426</td>\n",
       "    </tr>\n",
       "    <tr>\n",
       "      <th>4</th>\n",
       "      <td>Chicago</td>\n",
       "      <td>IL</td>\n",
       "      <td>417</td>\n",
       "    </tr>\n",
       "  </tbody>\n",
       "</table>\n",
       "</div>"
      ],
      "text/plain": [
       "       venuecity venuestate  avg_event_price\n",
       "0     Foxborough         MA              438\n",
       "1       St. Paul         MN              437\n",
       "2   Orchard Park         NY              427\n",
       "3  Mountain View         CA              426\n",
       "4        Chicago         IL              417"
      ]
     },
     "execution_count": 21,
     "metadata": {},
     "output_type": "execute_result"
    }
   ],
   "source": [
    "# Top 5 locations based on their ticket price\n",
    "\n",
    "SELECT v.venuecity, v.venuestate, ROUND(AVG(l.priceperticket), 0) AS avg_event_price\n",
    "FROM venue v\n",
    "JOIN event e ON v.venueid = e.venueid\n",
    "JOIN listing l ON e.eventid = l.eventid\n",
    "GROUP BY v.venuecity, v.venuestate\n",
    "ORDER BY avg_event_price DESC\n",
    "LIMIT 5;"
   ]
  },
  {
   "cell_type": "code",
   "execution_count": 24,
   "id": "051d73df-1c49-4e28-be3a-9f5072507051",
   "metadata": {
    "customType": "sql",
    "dataFrameVariableName": "df5",
    "executionCancelledAt": null,
    "executionTime": 5571,
    "lastExecutedAt": 1694656735228,
    "lastScheduledRunId": null,
    "lastSuccessfullyExecutedCode": "\nWITH event_sales AS (\n    SELECT e.eventid, SUM(s.qtysold) AS total_tickets_sold\n    FROM sales s\n    JOIN event e ON s.eventid = e.eventid\n    GROUP BY e.eventid\n)\n\nSELECT e.eventname, v.venuename, \n       ROUND(\n           CASE WHEN v.venueseats > 0 \n                THEN (event_sales.total_tickets_sold / v.venueseats::float) * 100\n                ELSE 0 \n           END, 2) AS occupancy_percentage\nFROM event_sales\nJOIN event e ON event_sales.eventid = e.eventid\nJOIN venue v ON e.venueid = v.venueid -- Fixed typo here\nORDER BY occupancy_percentage DESC\nLIMIT 5;",
    "outputsMetadata": {
     "0": {
      "height": 190,
      "type": "dataFrame"
     }
    },
    "sqlCellMode": "dataFrame",
    "sqlSource": {
     "integrationId": "f6cfed46-351b-4bd5-8798-299c81baa8b6",
     "integrationType": "redshift",
     "type": "integration"
    }
   },
   "outputs": [
    {
     "@datacamp/metadata": {
      "executedQuery": "\nWITH event_sales AS (\n    SELECT e.eventid, SUM(s.qtysold) AS total_tickets_sold\n    FROM sales s\n    JOIN event e ON s.eventid = e.eventid\n    GROUP BY e.eventid\n)\n\nSELECT e.eventname, v.venuename, \n       ROUND(\n           CASE WHEN v.venueseats > 0 \n                THEN (event_sales.total_tickets_sold / v.venueseats::float) * 100\n                ELSE 0 \n           END, 2) AS occupancy_percentage\nFROM event_sales\nJOIN event e ON event_sales.eventid = e.eventid\nJOIN venue v ON e.venueid = v.venueid -- Fixed typo here\nORDER BY occupancy_percentage DESC\nLIMIT 5;",
      "executedQueryParameters": []
     },
     "data": {
      "application/com.datacamp.data-table.v1+json": {
       "table": {
        "data": [
         {
          "eventname": "Insane Clown Posse",
          "index": 0,
          "occupancy_percentage": 0.45,
          "venuename": "Madison Square Garden"
         },
         {
          "eventname": "Foreigner",
          "index": 1,
          "occupancy_percentage": 0.44,
          "venuename": "Shoreline Amphitheatre"
         },
         {
          "eventname": "Brian Jonestown Massacre",
          "index": 2,
          "occupancy_percentage": 0.43,
          "venuename": "Madison Square Garden"
         },
         {
          "eventname": "Hermans Hermits",
          "index": 3,
          "occupancy_percentage": 0.37,
          "venuename": "Madison Square Garden"
         },
         {
          "eventname": "Steve Miller Band",
          "index": 4,
          "occupancy_percentage": 0.36,
          "venuename": "Madison Square Garden"
         }
        ],
        "schema": {
         "fields": [
          {
           "name": "index",
           "type": "integer"
          },
          {
           "name": "eventname",
           "type": "string"
          },
          {
           "name": "venuename",
           "type": "string"
          },
          {
           "name": "occupancy_percentage",
           "type": "number"
          }
         ],
         "pandas_version": "1.4.0",
         "primaryKey": [
          "index"
         ]
        }
       },
       "total_rows": 5,
       "truncation_type": null
      },
      "text/html": [
       "<div>\n",
       "<style scoped>\n",
       "    .dataframe tbody tr th:only-of-type {\n",
       "        vertical-align: middle;\n",
       "    }\n",
       "\n",
       "    .dataframe tbody tr th {\n",
       "        vertical-align: top;\n",
       "    }\n",
       "\n",
       "    .dataframe thead th {\n",
       "        text-align: right;\n",
       "    }\n",
       "</style>\n",
       "<table border=\"1\" class=\"dataframe\">\n",
       "  <thead>\n",
       "    <tr style=\"text-align: right;\">\n",
       "      <th></th>\n",
       "      <th>eventname</th>\n",
       "      <th>venuename</th>\n",
       "      <th>occupancy_percentage</th>\n",
       "    </tr>\n",
       "  </thead>\n",
       "  <tbody>\n",
       "    <tr>\n",
       "      <th>0</th>\n",
       "      <td>Insane Clown Posse</td>\n",
       "      <td>Madison Square Garden</td>\n",
       "      <td>0.45</td>\n",
       "    </tr>\n",
       "    <tr>\n",
       "      <th>1</th>\n",
       "      <td>Foreigner</td>\n",
       "      <td>Shoreline Amphitheatre</td>\n",
       "      <td>0.44</td>\n",
       "    </tr>\n",
       "    <tr>\n",
       "      <th>2</th>\n",
       "      <td>Brian Jonestown Massacre</td>\n",
       "      <td>Madison Square Garden</td>\n",
       "      <td>0.43</td>\n",
       "    </tr>\n",
       "    <tr>\n",
       "      <th>3</th>\n",
       "      <td>Hermans Hermits</td>\n",
       "      <td>Madison Square Garden</td>\n",
       "      <td>0.37</td>\n",
       "    </tr>\n",
       "    <tr>\n",
       "      <th>4</th>\n",
       "      <td>Steve Miller Band</td>\n",
       "      <td>Madison Square Garden</td>\n",
       "      <td>0.36</td>\n",
       "    </tr>\n",
       "  </tbody>\n",
       "</table>\n",
       "</div>"
      ],
      "text/plain": [
       "                  eventname               venuename  occupancy_percentage\n",
       "0        Insane Clown Posse   Madison Square Garden                  0.45\n",
       "1                 Foreigner  Shoreline Amphitheatre                  0.44\n",
       "2  Brian Jonestown Massacre   Madison Square Garden                  0.43\n",
       "3           Hermans Hermits   Madison Square Garden                  0.37\n",
       "4         Steve Miller Band   Madison Square Garden                  0.36"
      ]
     },
     "execution_count": 24,
     "metadata": {},
     "output_type": "execute_result"
    }
   ],
   "source": [
    "# Top 5 events and their location based on occupancy\n",
    "\n",
    "WITH event_sales AS (\n",
    "    SELECT e.eventid, SUM(s.qtysold) AS total_tickets_sold\n",
    "    FROM sales s\n",
    "    JOIN event e ON s.eventid = e.eventid\n",
    "    GROUP BY e.eventid\n",
    ")\n",
    "\n",
    "SELECT e.eventname, v.venuename, \n",
    "       ROUND(\n",
    "           CASE WHEN v.venueseats > 0 \n",
    "                THEN (event_sales.total_tickets_sold / v.venueseats::float) * 100\n",
    "                ELSE 0 \n",
    "           END, 2) AS occupancy_percentage\n",
    "FROM event_sales\n",
    "JOIN event e ON event_sales.eventid = e.eventid\n",
    "JOIN venue v ON e.venueid = v.venueid -- Fixed typo here\n",
    "ORDER BY occupancy_percentage DESC\n",
    "LIMIT 5;"
   ]
  }
 ],
 "metadata": {
  "colab": {
   "name": "Welcome to DataCamp Workspaces.ipynb",
   "provenance": []
  },
  "kernelspec": {
   "display_name": "Python 3 (ipykernel)",
   "language": "python",
   "name": "python3"
  },
  "language_info": {
   "codemirror_mode": {
    "name": "ipython",
    "version": 3
   },
   "file_extension": ".py",
   "mimetype": "text/x-python",
   "name": "python",
   "nbconvert_exporter": "python",
   "pygments_lexer": "ipython3",
   "version": "3.9.7"
  }
 },
 "nbformat": 4,
 "nbformat_minor": 5
}
